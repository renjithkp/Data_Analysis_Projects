{
 "cells": [
  {
   "cell_type": "code",
   "execution_count": 26,
   "metadata": {},
   "outputs": [],
   "source": [
    "import pandas as pd\n",
    "import numpy as np\n",
    "import matplotlib.pyplot as plt\n",
    "import seaborn as sns"
   ]
  },
  {
   "cell_type": "code",
   "execution_count": 27,
   "metadata": {},
   "outputs": [],
   "source": [
    "df=pd.read_excel(r\"C:\\Users\\Renjith KP\\Downloads\\Sales_Data.xlsx\")"
   ]
  },
  {
   "cell_type": "code",
   "execution_count": 28,
   "metadata": {},
   "outputs": [
    {
     "data": {
      "text/html": [
       "<div>\n",
       "<style scoped>\n",
       "    .dataframe tbody tr th:only-of-type {\n",
       "        vertical-align: middle;\n",
       "    }\n",
       "\n",
       "    .dataframe tbody tr th {\n",
       "        vertical-align: top;\n",
       "    }\n",
       "\n",
       "    .dataframe thead th {\n",
       "        text-align: right;\n",
       "    }\n",
       "</style>\n",
       "<table border=\"1\" class=\"dataframe\">\n",
       "  <thead>\n",
       "    <tr style=\"text-align: right;\">\n",
       "      <th></th>\n",
       "      <th>ORDERNUMBER</th>\n",
       "      <th>QUANTITYORDERED</th>\n",
       "      <th>PRICEEACH</th>\n",
       "      <th>ORDERLINENUMBER</th>\n",
       "      <th>SALES</th>\n",
       "      <th>ORDERDATE</th>\n",
       "      <th>DAYS_SINCE_LASTORDER</th>\n",
       "      <th>STATUS</th>\n",
       "      <th>PRODUCTLINE</th>\n",
       "      <th>MSRP</th>\n",
       "      <th>PRODUCTCODE</th>\n",
       "      <th>CUSTOMERNAME</th>\n",
       "      <th>PHONE</th>\n",
       "      <th>ADDRESSLINE1</th>\n",
       "      <th>CITY</th>\n",
       "      <th>POSTALCODE</th>\n",
       "      <th>COUNTRY</th>\n",
       "      <th>CONTACTLASTNAME</th>\n",
       "      <th>CONTACTFIRSTNAME</th>\n",
       "      <th>DEALSIZE</th>\n",
       "    </tr>\n",
       "  </thead>\n",
       "  <tbody>\n",
       "    <tr>\n",
       "      <th>0</th>\n",
       "      <td>10107</td>\n",
       "      <td>30</td>\n",
       "      <td>95.70</td>\n",
       "      <td>2</td>\n",
       "      <td>2871.00</td>\n",
       "      <td>2018-02-24</td>\n",
       "      <td>828</td>\n",
       "      <td>Shipped</td>\n",
       "      <td>Motorcycles</td>\n",
       "      <td>95</td>\n",
       "      <td>S10_1678</td>\n",
       "      <td>Land of Toys Inc.</td>\n",
       "      <td>2125557818</td>\n",
       "      <td>897 Long Airport Avenue</td>\n",
       "      <td>NYC</td>\n",
       "      <td>10022</td>\n",
       "      <td>USA</td>\n",
       "      <td>Yu</td>\n",
       "      <td>Kwai</td>\n",
       "      <td>Small</td>\n",
       "    </tr>\n",
       "    <tr>\n",
       "      <th>1</th>\n",
       "      <td>10121</td>\n",
       "      <td>34</td>\n",
       "      <td>81.35</td>\n",
       "      <td>5</td>\n",
       "      <td>2765.90</td>\n",
       "      <td>2018-05-07</td>\n",
       "      <td>757</td>\n",
       "      <td>Shipped</td>\n",
       "      <td>Motorcycles</td>\n",
       "      <td>95</td>\n",
       "      <td>S10_1678</td>\n",
       "      <td>Reims Collectables</td>\n",
       "      <td>26.47.1555</td>\n",
       "      <td>59 rue de l'Abbaye</td>\n",
       "      <td>Reims</td>\n",
       "      <td>51100</td>\n",
       "      <td>France</td>\n",
       "      <td>Henriot</td>\n",
       "      <td>Paul</td>\n",
       "      <td>Small</td>\n",
       "    </tr>\n",
       "    <tr>\n",
       "      <th>2</th>\n",
       "      <td>10134</td>\n",
       "      <td>41</td>\n",
       "      <td>94.74</td>\n",
       "      <td>2</td>\n",
       "      <td>3884.34</td>\n",
       "      <td>2018-07-01</td>\n",
       "      <td>703</td>\n",
       "      <td>Shipped</td>\n",
       "      <td>Motorcycles</td>\n",
       "      <td>95</td>\n",
       "      <td>S10_1678</td>\n",
       "      <td>Lyon Souveniers</td>\n",
       "      <td>+33 1 46 62 7555</td>\n",
       "      <td>27 rue du Colonel Pierre Avia</td>\n",
       "      <td>Paris</td>\n",
       "      <td>75508</td>\n",
       "      <td>France</td>\n",
       "      <td>Da Cunha</td>\n",
       "      <td>Daniel</td>\n",
       "      <td>Medium</td>\n",
       "    </tr>\n",
       "    <tr>\n",
       "      <th>3</th>\n",
       "      <td>10145</td>\n",
       "      <td>45</td>\n",
       "      <td>83.26</td>\n",
       "      <td>6</td>\n",
       "      <td>3746.70</td>\n",
       "      <td>2018-08-25</td>\n",
       "      <td>649</td>\n",
       "      <td>Shipped</td>\n",
       "      <td>Motorcycles</td>\n",
       "      <td>95</td>\n",
       "      <td>S10_1678</td>\n",
       "      <td>Toys4GrownUps.com</td>\n",
       "      <td>6265557265</td>\n",
       "      <td>78934 Hillside Dr.</td>\n",
       "      <td>Pasadena</td>\n",
       "      <td>90003</td>\n",
       "      <td>USA</td>\n",
       "      <td>Young</td>\n",
       "      <td>Julie</td>\n",
       "      <td>Medium</td>\n",
       "    </tr>\n",
       "    <tr>\n",
       "      <th>4</th>\n",
       "      <td>10168</td>\n",
       "      <td>36</td>\n",
       "      <td>96.66</td>\n",
       "      <td>1</td>\n",
       "      <td>3479.76</td>\n",
       "      <td>2018-10-28</td>\n",
       "      <td>586</td>\n",
       "      <td>Shipped</td>\n",
       "      <td>Motorcycles</td>\n",
       "      <td>95</td>\n",
       "      <td>S10_1678</td>\n",
       "      <td>Technics Stores Inc.</td>\n",
       "      <td>6505556809</td>\n",
       "      <td>9408 Furth Circle</td>\n",
       "      <td>Burlingame</td>\n",
       "      <td>94217</td>\n",
       "      <td>USA</td>\n",
       "      <td>Hirano</td>\n",
       "      <td>Juri</td>\n",
       "      <td>Medium</td>\n",
       "    </tr>\n",
       "  </tbody>\n",
       "</table>\n",
       "</div>"
      ],
      "text/plain": [
       "   ORDERNUMBER  QUANTITYORDERED  PRICEEACH  ORDERLINENUMBER    SALES  \\\n",
       "0        10107               30      95.70                2  2871.00   \n",
       "1        10121               34      81.35                5  2765.90   \n",
       "2        10134               41      94.74                2  3884.34   \n",
       "3        10145               45      83.26                6  3746.70   \n",
       "4        10168               36      96.66                1  3479.76   \n",
       "\n",
       "   ORDERDATE  DAYS_SINCE_LASTORDER   STATUS  PRODUCTLINE  MSRP PRODUCTCODE  \\\n",
       "0 2018-02-24                   828  Shipped  Motorcycles    95    S10_1678   \n",
       "1 2018-05-07                   757  Shipped  Motorcycles    95    S10_1678   \n",
       "2 2018-07-01                   703  Shipped  Motorcycles    95    S10_1678   \n",
       "3 2018-08-25                   649  Shipped  Motorcycles    95    S10_1678   \n",
       "4 2018-10-28                   586  Shipped  Motorcycles    95    S10_1678   \n",
       "\n",
       "           CUSTOMERNAME             PHONE                   ADDRESSLINE1  \\\n",
       "0     Land of Toys Inc.        2125557818        897 Long Airport Avenue   \n",
       "1    Reims Collectables        26.47.1555             59 rue de l'Abbaye   \n",
       "2       Lyon Souveniers  +33 1 46 62 7555  27 rue du Colonel Pierre Avia   \n",
       "3     Toys4GrownUps.com        6265557265             78934 Hillside Dr.   \n",
       "4  Technics Stores Inc.        6505556809              9408 Furth Circle   \n",
       "\n",
       "         CITY POSTALCODE COUNTRY CONTACTLASTNAME CONTACTFIRSTNAME DEALSIZE  \n",
       "0         NYC      10022     USA              Yu             Kwai    Small  \n",
       "1       Reims      51100  France         Henriot             Paul    Small  \n",
       "2       Paris      75508  France        Da Cunha           Daniel   Medium  \n",
       "3    Pasadena      90003     USA           Young            Julie   Medium  \n",
       "4  Burlingame      94217     USA          Hirano             Juri   Medium  "
      ]
     },
     "execution_count": 28,
     "metadata": {},
     "output_type": "execute_result"
    }
   ],
   "source": [
    "df.head()"
   ]
  },
  {
   "cell_type": "code",
   "execution_count": 29,
   "metadata": {},
   "outputs": [
    {
     "data": {
      "text/plain": [
       "(2747, 20)"
      ]
     },
     "execution_count": 29,
     "metadata": {},
     "output_type": "execute_result"
    }
   ],
   "source": [
    "df.shape"
   ]
  },
  {
   "cell_type": "code",
   "execution_count": 30,
   "metadata": {},
   "outputs": [
    {
     "name": "stdout",
     "output_type": "stream",
     "text": [
      "<class 'pandas.core.frame.DataFrame'>\n",
      "RangeIndex: 2747 entries, 0 to 2746\n",
      "Data columns (total 20 columns):\n",
      " #   Column                Non-Null Count  Dtype         \n",
      "---  ------                --------------  -----         \n",
      " 0   ORDERNUMBER           2747 non-null   int64         \n",
      " 1   QUANTITYORDERED       2747 non-null   int64         \n",
      " 2   PRICEEACH             2747 non-null   float64       \n",
      " 3   ORDERLINENUMBER       2747 non-null   int64         \n",
      " 4   SALES                 2747 non-null   float64       \n",
      " 5   ORDERDATE             2747 non-null   datetime64[ns]\n",
      " 6   DAYS_SINCE_LASTORDER  2747 non-null   int64         \n",
      " 7   STATUS                2747 non-null   object        \n",
      " 8   PRODUCTLINE           2747 non-null   object        \n",
      " 9   MSRP                  2747 non-null   int64         \n",
      " 10  PRODUCTCODE           2747 non-null   object        \n",
      " 11  CUSTOMERNAME          2747 non-null   object        \n",
      " 12  PHONE                 2747 non-null   object        \n",
      " 13  ADDRESSLINE1          2747 non-null   object        \n",
      " 14  CITY                  2747 non-null   object        \n",
      " 15  POSTALCODE            2747 non-null   object        \n",
      " 16  COUNTRY               2747 non-null   object        \n",
      " 17  CONTACTLASTNAME       2747 non-null   object        \n",
      " 18  CONTACTFIRSTNAME      2747 non-null   object        \n",
      " 19  DEALSIZE              2747 non-null   object        \n",
      "dtypes: datetime64[ns](1), float64(2), int64(5), object(12)\n",
      "memory usage: 429.3+ KB\n"
     ]
    }
   ],
   "source": [
    "df.info()"
   ]
  },
  {
   "cell_type": "code",
   "execution_count": 31,
   "metadata": {},
   "outputs": [
    {
     "data": {
      "text/plain": [
       "0"
      ]
     },
     "execution_count": 31,
     "metadata": {},
     "output_type": "execute_result"
    }
   ],
   "source": [
    "df.duplicated().sum()"
   ]
  },
  {
   "cell_type": "code",
   "execution_count": 32,
   "metadata": {},
   "outputs": [
    {
     "data": {
      "text/plain": [
       "ORDERNUMBER             0\n",
       "QUANTITYORDERED         0\n",
       "PRICEEACH               0\n",
       "ORDERLINENUMBER         0\n",
       "SALES                   0\n",
       "ORDERDATE               0\n",
       "DAYS_SINCE_LASTORDER    0\n",
       "STATUS                  0\n",
       "PRODUCTLINE             0\n",
       "MSRP                    0\n",
       "PRODUCTCODE             0\n",
       "CUSTOMERNAME            0\n",
       "PHONE                   0\n",
       "ADDRESSLINE1            0\n",
       "CITY                    0\n",
       "POSTALCODE              0\n",
       "COUNTRY                 0\n",
       "CONTACTLASTNAME         0\n",
       "CONTACTFIRSTNAME        0\n",
       "DEALSIZE                0\n",
       "dtype: int64"
      ]
     },
     "execution_count": 32,
     "metadata": {},
     "output_type": "execute_result"
    }
   ],
   "source": [
    "df.isnull().sum()"
   ]
  },
  {
   "cell_type": "code",
   "execution_count": 33,
   "metadata": {},
   "outputs": [
    {
     "data": {
      "text/html": [
       "<div>\n",
       "<style scoped>\n",
       "    .dataframe tbody tr th:only-of-type {\n",
       "        vertical-align: middle;\n",
       "    }\n",
       "\n",
       "    .dataframe tbody tr th {\n",
       "        vertical-align: top;\n",
       "    }\n",
       "\n",
       "    .dataframe thead th {\n",
       "        text-align: right;\n",
       "    }\n",
       "</style>\n",
       "<table border=\"1\" class=\"dataframe\">\n",
       "  <thead>\n",
       "    <tr style=\"text-align: right;\">\n",
       "      <th></th>\n",
       "      <th>ORDERNUMBER</th>\n",
       "      <th>QUANTITYORDERED</th>\n",
       "      <th>PRICEEACH</th>\n",
       "      <th>ORDERLINENUMBER</th>\n",
       "      <th>SALES</th>\n",
       "      <th>DAYS_SINCE_LASTORDER</th>\n",
       "      <th>MSRP</th>\n",
       "    </tr>\n",
       "  </thead>\n",
       "  <tbody>\n",
       "    <tr>\n",
       "      <th>count</th>\n",
       "      <td>2747.000000</td>\n",
       "      <td>2747.000000</td>\n",
       "      <td>2747.000000</td>\n",
       "      <td>2747.000000</td>\n",
       "      <td>2747.000000</td>\n",
       "      <td>2747.000000</td>\n",
       "      <td>2747.000000</td>\n",
       "    </tr>\n",
       "    <tr>\n",
       "      <th>mean</th>\n",
       "      <td>10259.761558</td>\n",
       "      <td>35.103021</td>\n",
       "      <td>101.098951</td>\n",
       "      <td>6.491081</td>\n",
       "      <td>3553.047583</td>\n",
       "      <td>1757.085912</td>\n",
       "      <td>100.691664</td>\n",
       "    </tr>\n",
       "    <tr>\n",
       "      <th>std</th>\n",
       "      <td>91.877521</td>\n",
       "      <td>9.762135</td>\n",
       "      <td>42.042548</td>\n",
       "      <td>4.230544</td>\n",
       "      <td>1838.953901</td>\n",
       "      <td>819.280576</td>\n",
       "      <td>40.114802</td>\n",
       "    </tr>\n",
       "    <tr>\n",
       "      <th>min</th>\n",
       "      <td>10100.000000</td>\n",
       "      <td>6.000000</td>\n",
       "      <td>26.880000</td>\n",
       "      <td>1.000000</td>\n",
       "      <td>482.130000</td>\n",
       "      <td>42.000000</td>\n",
       "      <td>33.000000</td>\n",
       "    </tr>\n",
       "    <tr>\n",
       "      <th>25%</th>\n",
       "      <td>10181.000000</td>\n",
       "      <td>27.000000</td>\n",
       "      <td>68.745000</td>\n",
       "      <td>3.000000</td>\n",
       "      <td>2204.350000</td>\n",
       "      <td>1077.000000</td>\n",
       "      <td>68.000000</td>\n",
       "    </tr>\n",
       "    <tr>\n",
       "      <th>50%</th>\n",
       "      <td>10264.000000</td>\n",
       "      <td>35.000000</td>\n",
       "      <td>95.550000</td>\n",
       "      <td>6.000000</td>\n",
       "      <td>3184.800000</td>\n",
       "      <td>1761.000000</td>\n",
       "      <td>99.000000</td>\n",
       "    </tr>\n",
       "    <tr>\n",
       "      <th>75%</th>\n",
       "      <td>10334.500000</td>\n",
       "      <td>43.000000</td>\n",
       "      <td>127.100000</td>\n",
       "      <td>9.000000</td>\n",
       "      <td>4503.095000</td>\n",
       "      <td>2436.500000</td>\n",
       "      <td>124.000000</td>\n",
       "    </tr>\n",
       "    <tr>\n",
       "      <th>max</th>\n",
       "      <td>10425.000000</td>\n",
       "      <td>97.000000</td>\n",
       "      <td>252.870000</td>\n",
       "      <td>18.000000</td>\n",
       "      <td>14082.800000</td>\n",
       "      <td>3562.000000</td>\n",
       "      <td>214.000000</td>\n",
       "    </tr>\n",
       "  </tbody>\n",
       "</table>\n",
       "</div>"
      ],
      "text/plain": [
       "        ORDERNUMBER  QUANTITYORDERED    PRICEEACH  ORDERLINENUMBER  \\\n",
       "count   2747.000000      2747.000000  2747.000000      2747.000000   \n",
       "mean   10259.761558        35.103021   101.098951         6.491081   \n",
       "std       91.877521         9.762135    42.042548         4.230544   \n",
       "min    10100.000000         6.000000    26.880000         1.000000   \n",
       "25%    10181.000000        27.000000    68.745000         3.000000   \n",
       "50%    10264.000000        35.000000    95.550000         6.000000   \n",
       "75%    10334.500000        43.000000   127.100000         9.000000   \n",
       "max    10425.000000        97.000000   252.870000        18.000000   \n",
       "\n",
       "              SALES  DAYS_SINCE_LASTORDER         MSRP  \n",
       "count   2747.000000           2747.000000  2747.000000  \n",
       "mean    3553.047583           1757.085912   100.691664  \n",
       "std     1838.953901            819.280576    40.114802  \n",
       "min      482.130000             42.000000    33.000000  \n",
       "25%     2204.350000           1077.000000    68.000000  \n",
       "50%     3184.800000           1761.000000    99.000000  \n",
       "75%     4503.095000           2436.500000   124.000000  \n",
       "max    14082.800000           3562.000000   214.000000  "
      ]
     },
     "execution_count": 33,
     "metadata": {},
     "output_type": "execute_result"
    }
   ],
   "source": [
    "df.describe()"
   ]
  },
  {
   "cell_type": "code",
   "execution_count": 34,
   "metadata": {},
   "outputs": [
    {
     "data": {
      "text/plain": [
       "ORDERNUMBER                      int64\n",
       "QUANTITYORDERED                  int64\n",
       "PRICEEACH                      float64\n",
       "ORDERLINENUMBER                  int64\n",
       "SALES                          float64\n",
       "ORDERDATE               datetime64[ns]\n",
       "DAYS_SINCE_LASTORDER             int64\n",
       "STATUS                          object\n",
       "PRODUCTLINE                     object\n",
       "MSRP                             int64\n",
       "PRODUCTCODE                     object\n",
       "CUSTOMERNAME                    object\n",
       "PHONE                           object\n",
       "ADDRESSLINE1                    object\n",
       "CITY                            object\n",
       "POSTALCODE                      object\n",
       "COUNTRY                         object\n",
       "CONTACTLASTNAME                 object\n",
       "CONTACTFIRSTNAME                object\n",
       "DEALSIZE                        object\n",
       "dtype: object"
      ]
     },
     "execution_count": 34,
     "metadata": {},
     "output_type": "execute_result"
    }
   ],
   "source": [
    "    df.dtypes"
   ]
  },
  {
   "cell_type": "code",
   "execution_count": 35,
   "metadata": {},
   "outputs": [],
   "source": [
    "numeric_columns = df.select_dtypes(include=['int64', 'float'])"
   ]
  },
  {
   "cell_type": "code",
   "execution_count": 36,
   "metadata": {},
   "outputs": [
    {
     "name": "stderr",
     "output_type": "stream",
     "text": [
      "C:\\Users\\Renjith KP\\anaconda3\\lib\\site-packages\\pandas\\core\\frame.py:4163: SettingWithCopyWarning: \n",
      "A value is trying to be set on a copy of a slice from a DataFrame\n",
      "\n",
      "See the caveats in the documentation: https://pandas.pydata.org/pandas-docs/stable/user_guide/indexing.html#returning-a-view-versus-a-copy\n",
      "  return super().drop(\n"
     ]
    }
   ],
   "source": [
    "numeric_columns.drop('ORDERNUMBER',axis=1,inplace=True)"
   ]
  },
  {
   "cell_type": "code",
   "execution_count": 37,
   "metadata": {},
   "outputs": [
    {
     "data": {
      "image/png": "[encoded data removed]",
      "text/plain": [
       "<Figure size 1080x720 with 1 Axes>"
      ]
     },
     "metadata": {
      "needs_background": "light"
     },
     "output_type": "display_data"
    }
   ],
   "source": [
    "plt.figure(figsize=(15, 10))\n",
    "plt.boxplot(numeric_columns.values, vert=False, labels=numeric_columns.columns)\n",
    "plt.title('Boxplot of Numeric Features')\n",
    "plt.xlabel('Values')\n",
    "plt.ylabel('Features')\n",
    "plt.show()"
   ]
  },
  {
   "cell_type": "code",
   "execution_count": null,
   "metadata": {},
   "outputs": [],
   "source": []
  }
 ],
 "metadata": {
  "kernelspec": {
   "display_name": "Python 3",
   "language": "python",
   "name": "python3"
  },
  "language_info": {
   "codemirror_mode": {
    "name": "ipython",
    "version": 3
   },
   "file_extension": ".py",
   "mimetype": "text/x-python",
   "name": "python",
   "nbconvert_exporter": "python",
   "pygments_lexer": "ipython3",
   "version": "3.8.5"
  }
 },
 "nbformat": 4,
 "nbformat_minor": 4
}
